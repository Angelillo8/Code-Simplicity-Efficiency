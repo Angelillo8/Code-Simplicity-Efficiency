{
 "cells": [
  {
   "cell_type": "code",
   "execution_count": 1,
   "metadata": {},
   "outputs": [
    {
     "name": "stdout",
     "output_type": "stream",
     "text": [
      "What is the maximal length of the triangle side? Enter a number: 20\n",
      "The longest side possible is 17\n"
     ]
    }
   ],
   "source": [
    "def my_function(x):\n",
    "    solutions = [[a, b, c] for a in range(5,x) for b in range(4,x) for c in range(3,x) if a*a==b*b+c*c]\n",
    "    m = [max(i) if max(i)>0 else 0 for i in solutions]\n",
    "    return max(m)\n",
    "\n",
    "x = input(\"What is the maximal length of the triangle side? Enter a number: \")\n",
    "\n",
    "print(\"The longest side possible is \" + str(my_function(int(x))))"
   ]
  }
 ],
 "metadata": {
  "kernelspec": {
   "display_name": "Python 3",
   "language": "python",
   "name": "python3"
  },
  "language_info": {
   "codemirror_mode": {
    "name": "ipython",
    "version": 3
   },
   "file_extension": ".py",
   "mimetype": "text/x-python",
   "name": "python",
   "nbconvert_exporter": "python",
   "pygments_lexer": "ipython3",
   "version": "3.8.3"
  }
 },
 "nbformat": 4,
 "nbformat_minor": 4
}
