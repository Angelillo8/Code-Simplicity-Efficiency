{
 "cells": [
  {
   "cell_type": "code",
   "execution_count": 1,
   "metadata": {},
   "outputs": [
    {
     "name": "stdout",
     "output_type": "stream",
     "text": [
      "Enter minimum string length: 4\n",
      "Enter maximum string length: 10\n",
      "How many random strings to generate? 5\n",
      "['tp5l2phmx', 'x5qp9b8qxi', 'qx722ar', 'coqi9az', '78g2']\n"
     ]
    }
   ],
   "source": [
    "import random\n",
    "import sys\n",
    "\n",
    "def string_characteristics():\n",
    "    a = input('Enter minimum string length: ')\n",
    "    b = input('Enter maximum string length: ')\n",
    "    n = input('How many random strings to generate? ')\n",
    "    return n, a, b\n",
    "\n",
    "def RandomStringGenerator(len_min,len_max):\n",
    "    character = ['a','b','c','d','e','f','g','h','i','j','k','l','m','n','o','p','q','r','s','t','u','v','w','x','y','z','0','1','2','3','4','5','6','7','8','9']\n",
    "    string = [random.choice(character) for i in range(random.randrange(len_min, len_max+1))]\n",
    "    return \"\".join(string)\n",
    "\n",
    "def BatchStringGenerator(n_string, len_min, len_max):\n",
    "    if len_min > len_max:\n",
    "        return sys.exit('Incorrect min and max string lengths. Try again.')\n",
    "    else:\n",
    "        r = [RandomStringGenerator(len_min, len_max) for i in range(n_string)]\n",
    "        return r\n",
    "\n",
    "x,y,z = string_characteristics()\n",
    "print(BatchStringGenerator(int(x),int(y),int(z)))\n"
   ]
  }
 ],
 "metadata": {
  "kernelspec": {
   "display_name": "Python 3",
   "language": "python",
   "name": "python3"
  },
  "language_info": {
   "codemirror_mode": {
    "name": "ipython",
    "version": 3
   },
   "file_extension": ".py",
   "mimetype": "text/x-python",
   "name": "python",
   "nbconvert_exporter": "python",
   "pygments_lexer": "ipython3",
   "version": "3.8.3"
  }
 },
 "nbformat": 4,
 "nbformat_minor": 4
}
