{
 "cells": [
  {
   "cell_type": "code",
   "execution_count": 2,
   "metadata": {},
   "outputs": [
    {
     "name": "stdout",
     "output_type": "stream",
     "text": [
      "Welcome to this calculator!\n",
      "It can add and subtract whole numbers from zero to five\n",
      "['zero', 'one', 'two', 'three', 'four', 'five']\n",
      "Please choose your first number (zero to five): seven\n",
      "Invalid input.\n",
      "Please choose your first number (zero to five): one\n",
      "What do you want to do? plus or minus: minus\n",
      "Please choose your second number (zero to five): four\n",
      "one minus four equals: minus three\n",
      "Thanks for using this calculator, goodbye :)\n"
     ]
    }
   ],
   "source": [
    "numbers = [\"zero\",\"one\", \"two\", \"three\", \"four\", \"five\", \"six\", \"seven\", \"eigth\", \"nine\", \"ten\"]\n",
    "\n",
    "print('Welcome to this calculator!')\n",
    "print('It can add and subtract whole numbers from zero to five')\n",
    "\n",
    "a = input('Please choose your first number (zero to five): ')\n",
    "while a not in numbers[0:6]:\n",
    "    print (\"Invalid input.\")\n",
    "    a = input('Please choose your first number (zero to five): ')\n",
    "    \n",
    "b = input('What do you want to do? plus or minus: ')\n",
    "while b not in (\"plus\", \"minus\"):\n",
    "    print (\"Invalid input.\")\n",
    "    b = input('What do you want to do? plus or minus: ')\n",
    "\n",
    "c = input('Please choose your second number (zero to five): ')\n",
    "while c not in numbers[0:6]:\n",
    "    print (\"Invalid input.\")\n",
    "    c = input('Please choose your second number (zero to five): ')\n",
    "    \n",
    "def calculator (a,b,c):\n",
    "\n",
    "    if b == \"plus\":\n",
    "        result = numbers.index(a) + numbers.index(c)\n",
    "        append = \":\"\n",
    "    elif b == \"minus\":\n",
    "        result = numbers.index(a) - numbers.index(c)\n",
    "        append = \":\"\n",
    "        if result < 0:\n",
    "            append = \": minus\"\n",
    "            result = result * (-1)\n",
    "    return result, append\n",
    "            \n",
    "x, y = calculator(a,b,c)\n",
    "\n",
    "print (a, b, c +\" equals\"+ y , numbers[x])\n",
    "\n",
    "print(\"Thanks for using this calculator, goodbye :)\")\n"
   ]
  }
 ],
 "metadata": {
  "kernelspec": {
   "display_name": "Python 3",
   "language": "python",
   "name": "python3"
  },
  "language_info": {
   "codemirror_mode": {
    "name": "ipython",
    "version": 3
   },
   "file_extension": ".py",
   "mimetype": "text/x-python",
   "name": "python",
   "nbconvert_exporter": "python",
   "pygments_lexer": "ipython3",
   "version": "3.8.3"
  }
 },
 "nbformat": 4,
 "nbformat_minor": 4
}
